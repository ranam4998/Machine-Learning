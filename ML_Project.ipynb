{
  "nbformat": 4,
  "nbformat_minor": 0,
  "metadata": {
    "colab": {
      "provenance": []
    },
    "kernelspec": {
      "name": "python3",
      "display_name": "Python 3"
    },
    "language_info": {
      "name": "python"
    }
  },
  "cells": [
    {
      "cell_type": "markdown",
      "source": [
        "I'll start by examining the data in the file to understand the available features and structure. After that, I'll help you build a framework for evaluating and comparing regression models based on your outlined objective. Let me load and review the contents of the dataset first."
      ],
      "metadata": {
        "id": "Q3KAgLh7rd4f"
      }
    },
    {
      "cell_type": "code",
      "execution_count": null,
      "metadata": {
        "colab": {
          "base_uri": "https://localhost:8080/"
        },
        "id": "QmJsEJEVp4l1",
        "outputId": "4787a179-15dc-44e0-caac-a72070d090c5"
      },
      "outputs": [
        {
          "output_type": "execute_result",
          "data": {
            "text/plain": [
              "(   Hours Studied  Previous Scores Extracurricular Activities  Sleep Hours  \\\n",
              " 0              7               99                        Yes            9   \n",
              " 1              4               82                         No            4   \n",
              " 2              8               51                        Yes            7   \n",
              " 3              5               52                        Yes            5   \n",
              " 4              7               75                         No            8   \n",
              " \n",
              "    Sample Question Papers Practiced  Performance Index  \n",
              " 0                                 1               91.0  \n",
              " 1                                 2               65.0  \n",
              " 2                                 2               45.0  \n",
              " 3                                 2               36.0  \n",
              " 4                                 5               66.0  ,\n",
              "        Hours Studied  Previous Scores   Sleep Hours  \\\n",
              " count   10000.000000     10000.000000  10000.000000   \n",
              " mean        4.992900        69.445700      6.530600   \n",
              " std         2.589309        17.343152      1.695863   \n",
              " min         1.000000        40.000000      4.000000   \n",
              " 25%         3.000000        54.000000      5.000000   \n",
              " 50%         5.000000        69.000000      7.000000   \n",
              " 75%         7.000000        85.000000      8.000000   \n",
              " max         9.000000        99.000000      9.000000   \n",
              " \n",
              "        Sample Question Papers Practiced  Performance Index  \n",
              " count                      10000.000000       10000.000000  \n",
              " mean                           4.583300          55.224800  \n",
              " std                            2.867348          19.212558  \n",
              " min                            0.000000          10.000000  \n",
              " 25%                            2.000000          40.000000  \n",
              " 50%                            5.000000          55.000000  \n",
              " 75%                            7.000000          71.000000  \n",
              " max                            9.000000         100.000000  )"
            ]
          },
          "metadata": {},
          "execution_count": 1
        }
      ],
      "source": [
        "import pandas as pd\n",
        "\n",
        "# Load the dataset to examine its structure and contents\n",
        "file_path = '/content/Student_Performance.csv'\n",
        "data = pd.read_csv(file_path)\n",
        "\n",
        "# Display the first few rows and a summary of the dataset to understand its structure\n",
        "data.head(), data.describe()\n"
      ]
    },
    {
      "cell_type": "markdown",
      "source": [
        "The dataset includes the following features:\n",
        "\n",
        "1.Hours Studied: Continuous numerical feature.\n",
        "\n",
        "2.Previous Scores: Continuous numerical feature representing past academic scores.\n",
        "\n",
        "3.Extracurricular Activities: Categorical feature (\"Yes\" or \"No\").\n",
        "\n",
        "4.Sleep Hours: Continuous numerical feature indicating hours of sleep.\n",
        "\n",
        "5.Sample Question Papers Practiced: Continuous numerical feature.\n",
        "\n",
        "The target variable is Performance Index, a continuous value indicating student performance.\n",
        "\n",
        "To proceed, I’ll:\n",
        "\n",
        "1.Preprocess the data, including encoding categorical features.\n",
        "\n",
        "2.Split the data into training and test sets.\n",
        "\n",
        "3.Develop and evaluate different regression models (e.g., Linear Regression, Random Forest Regressor).\n",
        "\n",
        "4.Compare models based on accuracy and other metrics to select the best-performing model."
      ],
      "metadata": {
        "id": "CxZIH9MurEGk"
      }
    },
    {
      "cell_type": "code",
      "source": [
        "from sklearn.model_selection import train_test_split\n",
        "from sklearn.preprocessing import LabelEncoder\n",
        "\n",
        "# Encode the categorical variable 'Extracurricular Activities'\n",
        "data['Extracurricular Activities'] = LabelEncoder().fit_transform(data['Extracurricular Activities'])\n",
        "\n",
        "# Define features and target variable\n",
        "X = data.drop(columns=['Performance Index'])\n",
        "y = data['Performance Index']\n",
        "\n",
        "# Split the dataset into training and test sets (80% train, 20% test)\n",
        "X_train, X_test, y_train, y_test = train_test_split(X, y, test_size=0.2, random_state=42)\n",
        "\n",
        "# Display the shapes of the train and test sets to confirm the split\n",
        "X_train.shape, X_test.shape, y_train.shape, y_test.shape\n"
      ],
      "metadata": {
        "colab": {
          "base_uri": "https://localhost:8080/"
        },
        "id": "y7LfEvwMqFxU",
        "outputId": "761aa599-b655-4ca4-bac3-0eb8ca18e428"
      },
      "execution_count": null,
      "outputs": [
        {
          "output_type": "execute_result",
          "data": {
            "text/plain": [
              "((8000, 5), (2000, 5), (8000,), (2000,))"
            ]
          },
          "metadata": {},
          "execution_count": 2
        }
      ]
    },
    {
      "cell_type": "markdown",
      "source": [
        "The dataset has been split into training and test sets, with 8,000 samples for training and 2,000 for testing. Now, I'll proceed to develop and evaluate several regression models, starting with common choices like Linear Regression and Random Forest Regressor. This will give us an initial comparison based on metrics such as Mean Absolute Error (MAE) and R-squared (R²)."
      ],
      "metadata": {
        "id": "2S76vaX1q_s9"
      }
    },
    {
      "cell_type": "code",
      "source": [
        "from sklearn.linear_model import LinearRegression\n",
        "from sklearn.ensemble import RandomForestRegressor\n",
        "from sklearn.metrics import mean_absolute_error, r2_score\n",
        "\n",
        "# Initialize models\n",
        "linear_reg = LinearRegression()\n",
        "random_forest = RandomForestRegressor(random_state=42)\n",
        "\n",
        "# Train models\n",
        "linear_reg.fit(X_train, y_train)\n",
        "random_forest.fit(X_train, y_train)\n",
        "\n",
        "# Make predictions on the test set\n",
        "y_pred_linear = linear_reg.predict(X_test)\n",
        "y_pred_rf = random_forest.predict(X_test)\n",
        "\n",
        "# Evaluate models\n",
        "linear_metrics = {\n",
        "    \"MAE\": mean_absolute_error(y_test, y_pred_linear),\n",
        "    \"R2\": r2_score(y_test, y_pred_linear)\n",
        "}\n",
        "\n",
        "rf_metrics = {\n",
        "    \"MAE\": mean_absolute_error(y_test, y_pred_rf),\n",
        "    \"R2\": r2_score(y_test, y_pred_rf)\n",
        "}\n",
        "\n",
        "linear_metrics, rf_metrics\n"
      ],
      "metadata": {
        "colab": {
          "base_uri": "https://localhost:8080/"
        },
        "id": "srBo1zDkqNCC",
        "outputId": "d53abec6-edcd-4518-ffcb-587321110945"
      },
      "execution_count": null,
      "outputs": [
        {
          "output_type": "execute_result",
          "data": {
            "text/plain": [
              "({'MAE': 1.6111213463123044, 'R2': 0.9889832909573145},\n",
              " {'MAE': 1.8147207361111108, 'R2': 0.9860792088401176})"
            ]
          },
          "metadata": {},
          "execution_count": 3
        }
      ]
    },
    {
      "cell_type": "markdown",
      "source": [
        "The initial model evaluations show the following performance:\n",
        "\n",
        "1.Linear Regression:\n",
        "\n",
        "Mean Absolute Error (MAE): 1.61\n",
        "\n",
        "R-squared (R²): 0.989\n",
        "\n",
        "2.Random Forest Regressor:\n",
        "\n",
        "Mean Absolute Error (MAE): 1.81\n",
        "\n",
        "R-squared (R²): 0.986\n",
        "\n",
        "Both models perform well, with Linear Regression slightly outperforming Random Forest on MAE and R². Based on these results, the Linear Regression model may be a strong candidate for the final model due to its simplicity and competitive performance."
      ],
      "metadata": {
        "id": "ZkHmv8JmqnGp"
      }
    },
    {
      "cell_type": "code",
      "source": [
        "def predict_performance_index(hours_studied, previous_scores, extracurricular_activities, sleep_hours, sample_papers_practiced):\n",
        "    \"\"\"\n",
        "    Predicts the Performance Index of a student based on the given features.\n",
        "\n",
        "    Parameters:\n",
        "    - hours_studied (float): Number of hours the student studied.\n",
        "    - previous_scores (float): Student's previous scores.\n",
        "    - extracurricular_activities (str): \"Yes\" if the student participates in extracurricular activities, otherwise \"No\".\n",
        "    - sleep_hours (float): Number of hours the student sleeps.\n",
        "    - sample_papers_practiced (float): Number of sample question papers practiced.\n",
        "\n",
        "    Returns:\n",
        "    - Predicted Performance Index (float).\n",
        "    \"\"\"\n",
        "    # Encode the extracurricular activities feature\n",
        "    extracurricular_encoded = 1 if extracurricular_activities.lower() == \"yes\" else 0\n",
        "\n",
        "    # Arrange input data for prediction\n",
        "    input_data = [[hours_studied, previous_scores, extracurricular_encoded, sleep_hours, sample_papers_practiced]]\n",
        "\n",
        "    # Predict and return the performance index\n",
        "    predicted_index = linear_reg.predict(input_data)\n",
        "    return predicted_index[0]\n",
        "\n",
        "# Example usage: predict the performance index for a new data point\n",
        "example_prediction = predict_performance_index(6, 85, \"Yes\", 7, 4)\n",
        "example_prediction\n"
      ],
      "metadata": {
        "colab": {
          "base_uri": "https://localhost:8080/"
        },
        "id": "YmzVcqdLqgXO",
        "outputId": "c9afb26f-c1a7-4f59-d6f7-df1deadeee29"
      },
      "execution_count": null,
      "outputs": [
        {
          "output_type": "stream",
          "name": "stderr",
          "text": [
            "/usr/local/lib/python3.10/dist-packages/sklearn/base.py:493: UserWarning: X does not have valid feature names, but LinearRegression was fitted with feature names\n",
            "  warnings.warn(\n"
          ]
        },
        {
          "output_type": "execute_result",
          "data": {
            "text/plain": [
              "74.35148710879079"
            ]
          },
          "metadata": {},
          "execution_count": 4
        }
      ]
    }
  ]
}